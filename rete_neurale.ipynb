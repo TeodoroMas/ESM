{
  "nbformat": 4,
  "nbformat_minor": 0,
  "metadata": {
    "colab": {
      "name": "rete_neurale.ipynb",
      "provenance": [],
      "authorship_tag": "ABX9TyOD+A7doAk1FlcuLW5ZOpwV",
      "include_colab_link": true
    },
    "kernelspec": {
      "name": "python3",
      "display_name": "Python 3"
    },
    "language_info": {
      "name": "python"
    }
  },
  "cells": [
    {
      "cell_type": "markdown",
      "metadata": {
        "id": "view-in-github",
        "colab_type": "text"
      },
      "source": [
        "<a href=\"https://colab.research.google.com/github/TeodoroMas/ESM/blob/main/rete_neurale.ipynb\" target=\"_parent\"><img src=\"https://colab.research.google.com/assets/colab-badge.svg\" alt=\"Open In Colab\"/></a>"
      ]
    },
    {
      "cell_type": "code",
      "execution_count": null,
      "metadata": {
        "id": "xHnYyef8TEg7"
      },
      "outputs": [],
      "source": [
        "%reset -f\n",
        "import matplotlib.pyplot as plt\n",
        "import skimage.io as io\n",
        "from tensorflow import keras\n",
        "from tensorflow.keras.preprocessing.image import ImageDataGenerator\n",
        "from tensorflow.keras import layers\n",
        "\n"
      ]
    },
    {
      "cell_type": "code",
      "source": [
        "!wget -q -c http://www.grip.unina.it/download/guide_TF/dogs_vs_cats.zip\n",
        "!unzip -q -n dogs_vs_cats.zip"
      ],
      "metadata": {
        "id": "puAfiFuvY-ZU"
      },
      "execution_count": null,
      "outputs": []
    },
    {
      "cell_type": "code",
      "source": [
        "filename = '/content/dogs'\n",
        "\n",
        "\n",
        "from tensorflow.keras.preprocessing.image import ImageDataGenerator\n",
        "dg = ImageDataGenerator(rescale=1/255, zoom_range=0.2, horizontal_flip=True)\n",
        "\n",
        "train_gen = dg.flow_from_directory('/content/dogs_vs_cats/train',batch_size=8,target_size=(150,150),class_mode='categorical')\n",
        "\n",
        "dg = ImageDataGenerator(rescale=1/255)  #test\n",
        "valid_gen= dg.flow_from_directory('/content/dogs_vs_cats/validation',batch_size=8,target_size=(150,150),class_mode='categorical')\n",
        "\n",
        "\n",
        "\n"
      ],
      "metadata": {
        "colab": {
          "base_uri": "https://localhost:8080/"
        },
        "id": "02_HfkqxYu-Y",
        "outputId": "e76a6849-a6a4-46b9-c3f6-a71e78332b75"
      },
      "execution_count": null,
      "outputs": [
        {
          "output_type": "stream",
          "name": "stdout",
          "text": [
            "Found 20000 images belonging to 2 classes.\n",
            "Found 5000 images belonging to 2 classes.\n"
          ]
        }
      ]
    },
    {
      "cell_type": "code",
      "source": [
        "\n",
        "\n",
        "\n",
        "\n",
        "\n",
        "\n",
        "net = keras.models.Sequential()\n",
        "\n",
        "net.add(layers.Conv2D(128, (5, 5), padding='same', activation='relu', input_shape=(150,150,3)))\n",
        "\n",
        "\n",
        "net.add(layers.MaxPooling2D((2, 2)))\n",
        "\n",
        "net.add(layers.Conv2D(128, (5, 5), padding='valid', activation='relu'))\n",
        "\n",
        "net.add(layers.MaxPooling2D((2, 2)))\n",
        "\n",
        "net.add(layers.Conv2D(256, (5, 5), padding='valid', activation='relu'))\n",
        "\n",
        "net.add(layers.MaxPooling2D((2, 2)))\n",
        "\n",
        "net.add(layers.Conv2D(256, (5, 5), padding='valid', activation='relu'))\n",
        "\n",
        "net.add(layers.MaxPooling2D((2, 2)))\n",
        "\n",
        "net.add(layers.Conv2D(512, (3, 3), padding='valid', activation='relu'))\n",
        "\n",
        "net.add(layers.GlobalAveragePooling2D())  #sia flatten che average pool passano a un array\n",
        "\n",
        "net.add(layers.Dense(2048, activation='relu'))\n",
        "\n",
        "net.add(layers.Dense(512, activation='relu'))\n",
        "\n",
        "net.add(layers.Dense(2, activation='softmax'))\n",
        "\n",
        "net.summary()\n",
        "\n",
        "#!nvidia-smi\n",
        "\n"
      ],
      "metadata": {
        "colab": {
          "base_uri": "https://localhost:8080/"
        },
        "id": "3wCPZD6TUWgo",
        "outputId": "ecb6d64b-c0ec-4a0a-95e4-249d7f9dcaca"
      },
      "execution_count": null,
      "outputs": [
        {
          "output_type": "stream",
          "name": "stdout",
          "text": [
            "Model: \"sequential_12\"\n",
            "_________________________________________________________________\n",
            " Layer (type)                Output Shape              Param #   \n",
            "=================================================================\n",
            " conv2d_35 (Conv2D)          (None, 150, 150, 128)     9728      \n",
            "                                                                 \n",
            " max_pooling2d_24 (MaxPoolin  (None, 75, 75, 128)      0         \n",
            " g2D)                                                            \n",
            "                                                                 \n",
            " conv2d_36 (Conv2D)          (None, 71, 71, 128)       409728    \n",
            "                                                                 \n",
            " max_pooling2d_25 (MaxPoolin  (None, 35, 35, 128)      0         \n",
            " g2D)                                                            \n",
            "                                                                 \n",
            " conv2d_37 (Conv2D)          (None, 31, 31, 256)       819456    \n",
            "                                                                 \n",
            " max_pooling2d_26 (MaxPoolin  (None, 15, 15, 256)      0         \n",
            " g2D)                                                            \n",
            "                                                                 \n",
            " conv2d_38 (Conv2D)          (None, 11, 11, 256)       1638656   \n",
            "                                                                 \n",
            " max_pooling2d_27 (MaxPoolin  (None, 5, 5, 256)        0         \n",
            " g2D)                                                            \n",
            "                                                                 \n",
            " conv2d_39 (Conv2D)          (None, 3, 3, 512)         1180160   \n",
            "                                                                 \n",
            " global_average_pooling2d (G  (None, 512)              0         \n",
            " lobalAveragePooling2D)                                          \n",
            "                                                                 \n",
            " dense_18 (Dense)            (None, 2048)              1050624   \n",
            "                                                                 \n",
            " dense_19 (Dense)            (None, 512)               1049088   \n",
            "                                                                 \n",
            " dense_20 (Dense)            (None, 2)                 1026      \n",
            "                                                                 \n",
            "=================================================================\n",
            "Total params: 6,158,466\n",
            "Trainable params: 6,158,466\n",
            "Non-trainable params: 0\n",
            "_________________________________________________________________\n"
          ]
        }
      ]
    },
    {
      "cell_type": "code",
      "source": [
        "net.compile(loss=keras.losses.categorical_crossentropy, optimizer=keras.optimizers.SGD(learning_rate=1e-4, momentum=0.9), metrics=['accuracy',])\n",
        "\n",
        "net.fit(train_gen, epochs=1, validation_data=valid_gen, verbose=1)  #addestramento"
      ],
      "metadata": {
        "colab": {
          "base_uri": "https://localhost:8080/"
        },
        "id": "_Zgy9VkMZSkz",
        "outputId": "71a1db88-6ad8-44bf-b21e-2cabb1887939"
      },
      "execution_count": null,
      "outputs": [
        {
          "output_type": "stream",
          "name": "stdout",
          "text": [
            "  24/2500 [..............................] - ETA: 2:06:43 - loss: 0.6935 - accuracy: 0.5208"
          ]
        }
      ]
    }
  ]
}